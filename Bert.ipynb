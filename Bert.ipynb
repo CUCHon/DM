{
 "cells": [
  {
   "cell_type": "code",
   "execution_count": null,
   "id": "16023f37-3c40-4539-b161-9c49054ee74a",
   "metadata": {},
   "outputs": [],
   "source": [
    "# load fine-tuned bert model for sentiment classification\n"
   ]
  },
  {
   "cell_type": "code",
   "execution_count": 3,
   "id": "dde98833-a827-4057-b6d7-4b9a61e6b513",
   "metadata": {},
   "outputs": [
    {
     "name": "stdout",
     "output_type": "stream",
     "text": [
      "Positive Sentiment: 0.9999\n",
      "Negative Sentiment: 0.0001\n"
     ]
    }
   ],
   "source": [
    "from transformers import AutoModelForSequenceClassification, AutoTokenizer\n",
    "import torch\n",
    "\n",
    "\n",
    "model_name = \"distilbert-base-uncased-finetuned-sst-2-english\"\n",
    "tokenizer = AutoTokenizer.from_pretrained(model_name)\n",
    "model = AutoModelForSequenceClassification.from_pretrained(model_name)\n",
    "\n",
    "# 预测文本情感\n",
    "text = \"I really enjoyed this movie, it was fantastic!\"\n",
    "inputs = tokenizer(text, return_tensors=\"pt\")\n",
    "outputs = model(**inputs)\n",
    "prediction = torch.nn.functional.softmax(outputs.logits, dim=-1)\n",
    "positive_score = prediction[0][1].item()\n",
    "negative_score = prediction[0][0].item()\n",
    "print(f\"Positive Sentiment: {positive_score:.4f}\")\n",
    "print(f\"Negative Sentiment: {negative_score:.4f}\")"
   ]
  },
  {
   "cell_type": "code",
   "execution_count": 4,
   "id": "619e4da5-890f-4e39-af98-01874865bb91",
   "metadata": {},
   "outputs": [
    {
     "name": "stdout",
     "output_type": "stream",
     "text": [
      "Positive Sentiment: 0.0002\n",
      "Negative Sentiment: 0.9998\n"
     ]
    }
   ],
   "source": [
    "text = \"It's a bad movie.\"\n",
    "inputs = tokenizer(text, return_tensors=\"pt\")\n",
    "outputs = model(**inputs)\n",
    "prediction = torch.nn.functional.softmax(outputs.logits, dim=-1)\n",
    "positive_score = prediction[0][1].item()\n",
    "negative_score = prediction[0][0].item()\n",
    "print(f\"Positive Sentiment: {positive_score:.4f}\")\n",
    "print(f\"Negative Sentiment: {negative_score:.4f}\")"
   ]
  },
  {
   "cell_type": "code",
   "execution_count": null,
   "id": "e459c8c2-ddaf-4fe9-aa7e-c6df4f3a7b30",
   "metadata": {},
   "outputs": [],
   "source": [
    "# load fine-tuned bert model for QA task"
   ]
  },
  {
   "cell_type": "code",
   "execution_count": 7,
   "id": "7a74e691-6240-4252-87a1-35f88b44cec3",
   "metadata": {},
   "outputs": [
    {
     "name": "stderr",
     "output_type": "stream",
     "text": [
      "Some weights of the model checkpoint at deepset/bert-base-cased-squad2 were not used when initializing BertForQuestionAnswering: ['bert.pooler.dense.bias', 'bert.pooler.dense.weight']\n",
      "- This IS expected if you are initializing BertForQuestionAnswering from the checkpoint of a model trained on another task or with another architecture (e.g. initializing a BertForSequenceClassification model from a BertForPreTraining model).\n",
      "- This IS NOT expected if you are initializing BertForQuestionAnswering from the checkpoint of a model that you expect to be exactly identical (initializing a BertForSequenceClassification model from a BertForSequenceClassification model).\n"
     ]
    },
    {
     "name": "stdout",
     "output_type": "stream",
     "text": [
      "Question: Where is the headquarter of Fedex?\n",
      "Answer: Memphis, Tennessee\n"
     ]
    }
   ],
   "source": [
    "from transformers import AutoModelForQuestionAnswering, AutoTokenizer\n",
    "import torch\n",
    "\n",
    "\n",
    "model_name = \"deepset/bert-base-cased-squad2\"\n",
    "model = AutoModelForQuestionAnswering.from_pretrained(model_name)\n",
    "tokenizer = AutoTokenizer.from_pretrained(model_name)\n",
    "\n",
    "question = \"Where is the headquarter of Fedex?\"\n",
    "context = \"The company is headquartered in Memphis, Tennessee.\"\n",
    "\n",
    "\n",
    "inputs = tokenizer(question, context, return_tensors=\"pt\")\n",
    "with torch.no_grad():\n",
    "    outputs = model(**inputs)\n",
    "    \n",
    "answer_start = torch.argmax(outputs.start_logits)\n",
    "answer_end = torch.argmax(outputs.end_logits) + 1\n",
    "answer = tokenizer.decode(inputs.input_ids[0][answer_start:answer_end])\n",
    "print(f\"Question: {question}\")\n",
    "print(f\"Answer: {answer}\")"
   ]
  },
  {
   "cell_type": "code",
   "execution_count": null,
   "id": "0b252b24-c17c-44bd-948d-e5e634753b65",
   "metadata": {},
   "outputs": [],
   "source": [
    "# Fine tune your own Bert model"
   ]
  },
  {
   "cell_type": "code",
   "execution_count": null,
   "id": "09c48297-1d24-4b6f-9a2f-ea25c971d8b5",
   "metadata": {},
   "outputs": [],
   "source": []
  },
  {
   "cell_type": "code",
   "execution_count": null,
   "id": "9869fb46-75f9-40e8-a2f9-5a34852efff0",
   "metadata": {},
   "outputs": [],
   "source": []
  }
 ],
 "metadata": {
  "kernelspec": {
   "display_name": "Python 3 (ipykernel)",
   "language": "python",
   "name": "python3"
  },
  "language_info": {
   "codemirror_mode": {
    "name": "ipython",
    "version": 3
   },
   "file_extension": ".py",
   "mimetype": "text/x-python",
   "name": "python",
   "nbconvert_exporter": "python",
   "pygments_lexer": "ipython3",
   "version": "3.12.7"
  }
 },
 "nbformat": 4,
 "nbformat_minor": 5
}
